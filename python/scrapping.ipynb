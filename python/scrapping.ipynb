{
 "cells": [
  {
   "cell_type": "markdown",
   "metadata": {},
   "source": [
    "# Trabajo con Nota 3\n",
    "\n",
    "1.- En el repositorio donde desarrollarón la página, implementar lo visto anterior mente con su página\n",
    "\n",
    "2.- Desarrollar la descarga de contenido desde la pagina \"https://www.falabella.com/falabella-cl/category/cat7090034/Tecnologia\" el código para leer esta ya se entrego.\n",
    "\n",
    "3.- Buscar una Página para descargar información y entregarla cómo proyecto final.\n",
    "\n",
    "La entrega se hara parcelada, esto significa que se evaluara avance, el avance se medirá en tareas completadas o preguntas que se tengan y la calidad de estas, la próxima semana se enviarán videos explicativos.\n",
    "\n",
    "El avance se entrega el día viernes 18 de noviembre.\n",
    " \n",
    "No olvide ir versionando su código.\n",
    "\n",
    "!Exito!"
   ]
  },
  {
   "cell_type": "code",
   "execution_count": null,
   "metadata": {},
   "outputs": [],
   "source": []
  }
 ],
 "metadata": {
  "kernelspec": {
   "display_name": "Python 3.10.8 64-bit",
   "language": "python",
   "name": "python3"
  },
  "language_info": {
   "name": "python",
   "version": "3.10.8"
  },
  "orig_nbformat": 4,
  "vscode": {
   "interpreter": {
    "hash": "f92a6894139e907353b078f0e36ed88e595e1902f480a32e21c0a4f059f9c394"
   }
  }
 },
 "nbformat": 4,
 "nbformat_minor": 2
}
